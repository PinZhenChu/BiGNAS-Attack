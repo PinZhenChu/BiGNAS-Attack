{
 "cells": [
  {
   "cell_type": "code",
   "execution_count": 1,
   "id": "8522fb22",
   "metadata": {},
   "outputs": [],
   "source": [
    "import pandas as pd\n",
    "import matplotlib.pyplot as plt\n",
    "\n",
    "\n",
    "target_path = '/mnt/sda1/sherry/BiGNAS/data/CD_Clothing_for_Clothing/raw/reviews_Clothing_Shoes_and_Jewelry_5.json.gz'\n",
    "source_path = '/mnt/sda1/sherry/BiGNAS/data/CD_Clothing_for_Clothing/raw/reviews_CDs_and_Vinyl_5.json.gz'\n",
    "\n",
    "# 讀取 Amazon 5-core 格式的 JSON.GZ\n",
    "target_df = pd.read_json(target_path, lines=True, compression='gzip')\n",
    "source_df = pd.read_json(source_path, lines=True, compression='gzip')\n"
   ]
  },
  {
   "cell_type": "code",
   "execution_count": 2,
   "id": "e81cafbc",
   "metadata": {},
   "outputs": [
    {
     "name": "stdout",
     "output_type": "stream",
     "text": [
      "Columns: Index(['reviewerID', 'asin', 'reviewerName', 'helpful', 'reviewText',\n",
      "       'overall', 'summary', 'unixReviewTime', 'reviewTime'],\n",
      "      dtype='object')\n"
     ]
    }
   ],
   "source": [
    "# 2️⃣ 確認有哪些欄位\n",
    "print(\"Columns:\", target_df.columns)"
   ]
  },
  {
   "cell_type": "code",
   "execution_count": 3,
   "id": "28143c44",
   "metadata": {},
   "outputs": [
    {
     "name": "stdout",
     "output_type": "stream",
     "text": [
      "✅ Target domain 總 item 數量（ASIN 計算）: 23033\n"
     ]
    }
   ],
   "source": [
    "print(f\"✅ Target domain 總 item 數量（ASIN 計算）: {target_df['asin'].nunique()}\")"
   ]
  },
  {
   "cell_type": "code",
   "execution_count": 4,
   "id": "62f1078f",
   "metadata": {},
   "outputs": [
    {
     "name": "stdout",
     "output_type": "stream",
     "text": [
      "✅ Target domain 總 user 數: 39387\n",
      "✅ Source domain 總 user 數: 75258\n",
      "🎯 兩個 domain 都有出現的 user 數（去重複計算）: 1390\n"
     ]
    }
   ],
   "source": [
    "# 1️⃣ 取得各自 unique 的 reviewerID set\n",
    "target_users = set(target_df['reviewerID'].unique())\n",
    "source_users = set(source_df['reviewerID'].unique())\n",
    "\n",
    "# 2️⃣ 計算 overlap\n",
    "overlap_users = target_users.intersection(source_users)\n",
    "\n",
    "# 3️⃣ 輸出結果\n",
    "print(f\"✅ Target domain 總 user 數: {len(target_users)}\")\n",
    "print(f\"✅ Source domain 總 user 數: {len(source_users)}\")\n",
    "print(f\"🎯 兩個 domain 都有出現的 user 數（去重複計算）: {len(overlap_users)}\")\n"
   ]
  },
  {
   "cell_type": "code",
   "execution_count": 8,
   "id": "4e76f81f",
   "metadata": {},
   "outputs": [
    {
     "name": "stdout",
     "output_type": "stream",
     "text": [
      "✅ Overlap user 數量: 1390\n",
      "\n",
      "❄️ Overlap users 中最冷門的 5 個 target item（asin / count / rank）:\n",
      "            count  rank\n",
      "asin                   \n",
      "B00DMWQV38      1     1\n",
      "B0027EM460      1     1\n",
      "B0027J4N2I      1     1\n",
      "B0027J5ORG      1     1\n",
      "B0027MPZP4      1     1\n",
      "\n",
      "🔥 Overlap users 中最熱門的 5 個 target item（asin / count / rank）:\n",
      "            count  rank\n",
      "asin                   \n",
      "B0068VM5T4     37  8074\n",
      "B0002TOZ1E     18  8073\n",
      "B0008EOEPK     16  8072\n",
      "B00C8YITKO     15  8071\n",
      "B000O32MLI     13  8069\n",
      "...           ...   ...\n",
      "B0006AAS7E      2  5679\n",
      "B005EYUQ7E      1     1\n",
      "B005DS9N20      1     1\n",
      "B007WADUOY      1     1\n",
      "B005C81568      1     1\n",
      "\n",
      "[2400 rows x 2 columns]\n"
     ]
    }
   ],
   "source": [
    "import pandas as pd\n",
    "\n",
    "# 1️⃣ 找 overlap users\n",
    "target_users = set(target_df['reviewerID'].unique())\n",
    "source_users = set(source_df['reviewerID'].unique())\n",
    "overlap_users = target_users.intersection(source_users)\n",
    "print(f\"✅ Overlap user 數量: {len(overlap_users)}\")\n",
    "\n",
    "# 2️⃣ 篩選 target_df，只保留 overlap users 的紀錄\n",
    "target_overlap_df = target_df[target_df['reviewerID'].isin(overlap_users)].copy()\n",
    "\n",
    "# 3️⃣ 統計這些 user 買過的 asin 出現次數\n",
    "item_counts = target_overlap_df['asin'].value_counts()\n",
    "\n",
    "# 4️⃣ 加入排名（count 小 → 大）\n",
    "item_counts_ranked = item_counts.rank(method='min', ascending=True).astype(int)\n",
    "\n",
    "# 5️⃣ 合併成 DataFrame\n",
    "item_stats = pd.DataFrame({\n",
    "    'count': item_counts,\n",
    "    'rank': item_counts_ranked\n",
    "}).sort_values(by='count', ascending=True)\n",
    "\n",
    "# 6️⃣ 取最冷門的 5 個\n",
    "coldest_items = item_stats.head(5)\n",
    "\n",
    "# 7️⃣ 取最熱門的 5 個（要重排一下）\n",
    "hottest_items = item_stats.sort_values(by='count', ascending=False).head(2400)\n",
    "\n",
    "# 8️⃣ 印出結果\n",
    "print(\"\\n❄️ Overlap users 中最冷門的 5 個 target item（asin / count / rank）:\")\n",
    "print(coldest_items)\n",
    "\n",
    "print(\"\\n🔥 Overlap users 中最熱門的 5 個 target item（asin / count / rank）:\")\n",
    "print(hottest_items)\n"
   ]
  },
  {
   "cell_type": "markdown",
   "id": "9b0beea6",
   "metadata": {},
   "source": [
    "查詢asin對應index"
   ]
  },
  {
   "cell_type": "code",
   "execution_count": 79,
   "id": "9a8e6928",
   "metadata": {},
   "outputs": [
    {
     "name": "stdout",
     "output_type": "stream",
     "text": [
      "✅ ASIN B0068VM5T4 → Index 8447\n"
     ]
    }
   ],
   "source": [
    "import pandas as pd\n",
    "\n",
    "# 讀取 CSV\n",
    "csv_path = '/mnt/sda1/sherry/BiGNAS/data/CD_Clothing_for_Clothing/processed/target_item_global_index_map.csv'\n",
    "df = pd.read_csv(csv_path)\n",
    "\n",
    "# 查詢最熱門商品 asin\n",
    "most_popular_asin = 'B0068VM5T4'  # 你需要事先找到這個 asin\n",
    "\n",
    "# 查詢對應 index\n",
    "result = df[df['asin'] == most_popular_asin]['global_index']\n",
    "\n",
    "if not result.empty:\n",
    "    target_item_id = result.values[0]\n",
    "    print(f\"✅ ASIN {most_popular_asin} → Index {target_item_id}\")\n",
    "else:\n",
    "    print(f\"❌ ASIN {most_popular_asin} 不在對應表中\")\n"
   ]
  },
  {
   "cell_type": "code",
   "execution_count": 15,
   "id": "214279b9",
   "metadata": {},
   "outputs": [
    {
     "name": "stdout",
     "output_type": "stream",
     "text": [
      "✅ 注入紀錄數量: 75\n"
     ]
    }
   ],
   "source": [
    "import pandas as pd\n",
    "\n",
    "# 先用 list 存儲要新增的 row\n",
    "new_rows = []\n",
    "\n",
    "for user in users_a:\n",
    "    for item in common_items:\n",
    "        new_rows.append({\n",
    "            'reviewerID': user,\n",
    "            'asin': item,\n",
    "            'overall': 5,  # 改為最高分\n",
    "            'unixReviewTime': 9999999999,\n",
    "            'reviewerName': 'HackedUser',\n",
    "            'helpful': [0, 0],\n",
    "            'reviewText': 'Amazing!',\n",
    "            'summary': 'Amazing!',\n",
    "            'reviewTime': '12 31, 2023'\n",
    "        })\n",
    "\n",
    "# 將 new_rows 轉成 DataFrame\n",
    "new_df = pd.DataFrame(new_rows)\n",
    "print(f\"✅ 注入紀錄數量: {len(new_df)}\")\n"
   ]
  },
  {
   "cell_type": "code",
   "execution_count": 27,
   "id": "1522b6f2",
   "metadata": {},
   "outputs": [
    {
     "name": "stdout",
     "output_type": "stream",
     "text": [
      "✅ 合併後 source_df 總資料量: 1097667\n"
     ]
    }
   ],
   "source": [
    "# === Step 5: 合併到 source_df ===\n",
    "source_df_augmented = pd.concat([source_df, new_df], ignore_index=True)\n",
    "print(f\"✅ 合併後 source_df 總資料量: {source_df_augmented.shape[0]}\")"
   ]
  },
  {
   "cell_type": "code",
   "execution_count": 16,
   "id": "48f199d1",
   "metadata": {},
   "outputs": [
    {
     "name": "stdout",
     "output_type": "stream",
     "text": [
      "75258\n",
      "✅ Target & Source domain overlap user 數量: 1390\n"
     ]
    }
   ],
   "source": [
    "# 取出各自的 unique user 集合\n",
    "target_users = set(target_df['reviewerID'].unique())\n",
    "source_users = set(source_df['reviewerID'].unique())\n",
    "\n",
    "# 計算重疊 user\n",
    "overlap_users = target_users.intersection(source_users)\n",
    "num_overlap_users = len(overlap_users)\n",
    "print(len(target_users))\n",
    "print(f\"✅ Target & Source domain overlap user 數量: {num_overlap_users}\")"
   ]
  }
 ],
 "metadata": {
  "kernelspec": {
   "display_name": "base",
   "language": "python",
   "name": "python3"
  },
  "language_info": {
   "codemirror_mode": {
    "name": "ipython",
    "version": 3
   },
   "file_extension": ".py",
   "mimetype": "text/x-python",
   "name": "python",
   "nbconvert_exporter": "python",
   "pygments_lexer": "ipython3",
   "version": "3.11.7"
  }
 },
 "nbformat": 4,
 "nbformat_minor": 5
}
